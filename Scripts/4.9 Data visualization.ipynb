{
 "cells": [
  {
   "cell_type": "markdown",
   "id": "63c6ec50",
   "metadata": {},
   "source": [
    "# Shaquille Obomeghie\n",
    "## Content list \n",
    "### 1. Import Libraries \n",
    "### 2. Import Dataframe \n",
    "### 3. Change data type \n",
    "### 4. Create a bar chart showing the busiest hour of the day \n",
    "### 5. Create a bar chart for the busiest days of the week \n",
    "### 6. Histogram for Prices \n",
    "\n"
   ]
  },
  {
   "cell_type": "markdown",
   "id": "f834214e",
   "metadata": {},
   "source": [
    "### 1. Import Libraries and libraries"
   ]
  },
  {
   "cell_type": "code",
   "execution_count": 1,
   "id": "58da9c87",
   "metadata": {},
   "outputs": [],
   "source": [
    "# Import Libraries\n",
    "import pandas as pd\n",
    "import numpy as np \n",
    "import os \n",
    "import matplotlib.pyplot as plt\n",
    "import seaborn as sns \n",
    "import scipy "
   ]
  },
  {
   "cell_type": "markdown",
   "id": "aa7bb9d3",
   "metadata": {},
   "source": [
    "### 2. Import dataframe"
   ]
  },
  {
   "cell_type": "code",
   "execution_count": 2,
   "id": "88a8eda4",
   "metadata": {},
   "outputs": [],
   "source": [
    "path = r'/Users/shaquillelee/Documents/Instacart Basket Analysis'"
   ]
  },
  {
   "cell_type": "code",
   "execution_count": 3,
   "id": "99660b3b",
   "metadata": {},
   "outputs": [],
   "source": [
    "prod_ord_group = pd.read_pickle(os.path.join(path, 'Data', 'Prepared Data', 'ords_prods_group.pkl'))"
   ]
  },
  {
   "cell_type": "code",
   "execution_count": 4,
   "id": "6dc129fa",
   "metadata": {},
   "outputs": [],
   "source": [
    "pd.set_option('display.max_columns', None)\n"
   ]
  },
  {
   "cell_type": "code",
   "execution_count": 5,
   "id": "5efa7f84",
   "metadata": {
    "scrolled": false
   },
   "outputs": [
    {
     "data": {
      "text/html": [
       "<div>\n",
       "<style scoped>\n",
       "    .dataframe tbody tr th:only-of-type {\n",
       "        vertical-align: middle;\n",
       "    }\n",
       "\n",
       "    .dataframe tbody tr th {\n",
       "        vertical-align: top;\n",
       "    }\n",
       "\n",
       "    .dataframe thead th {\n",
       "        text-align: right;\n",
       "    }\n",
       "</style>\n",
       "<table border=\"1\" class=\"dataframe\">\n",
       "  <thead>\n",
       "    <tr style=\"text-align: right;\">\n",
       "      <th></th>\n",
       "      <th>order_id</th>\n",
       "      <th>user_identity_number</th>\n",
       "      <th>order_number</th>\n",
       "      <th>orders_day_of_week</th>\n",
       "      <th>order_hour_of_day</th>\n",
       "      <th>days_since_prior_order</th>\n",
       "      <th>product_id</th>\n",
       "      <th>add_to_cart_order</th>\n",
       "      <th>reordered</th>\n",
       "      <th>product_name</th>\n",
       "      <th>aisle_id</th>\n",
       "      <th>department_id</th>\n",
       "      <th>prices</th>\n",
       "      <th>_merge</th>\n",
       "      <th>price_range_loc</th>\n",
       "      <th>Busiest_day</th>\n",
       "      <th>Busiest_days</th>\n",
       "      <th>busiest_period_of_the_day</th>\n",
       "      <th>max_order</th>\n",
       "      <th>loyalty_flag</th>\n",
       "      <th>average_price</th>\n",
       "      <th>Spending</th>\n",
       "      <th>median_days_since_prior_order</th>\n",
       "      <th>order_regularity</th>\n",
       "    </tr>\n",
       "  </thead>\n",
       "  <tbody>\n",
       "    <tr>\n",
       "      <th>0</th>\n",
       "      <td>2539329.0</td>\n",
       "      <td>1.0</td>\n",
       "      <td>1.0</td>\n",
       "      <td>2.0</td>\n",
       "      <td>8.0</td>\n",
       "      <td>7.0</td>\n",
       "      <td>196</td>\n",
       "      <td>1.0</td>\n",
       "      <td>0.0</td>\n",
       "      <td>Soda</td>\n",
       "      <td>77.0</td>\n",
       "      <td>7.0</td>\n",
       "      <td>9.0</td>\n",
       "      <td>both</td>\n",
       "      <td>Mid-range Products</td>\n",
       "      <td>Regularly busy</td>\n",
       "      <td>Regularly busy</td>\n",
       "      <td>Average Orders</td>\n",
       "      <td>10.0</td>\n",
       "      <td>New Customer</td>\n",
       "      <td>6.367797</td>\n",
       "      <td>Low Spender</td>\n",
       "      <td>20.0</td>\n",
       "      <td>Regular customer</td>\n",
       "    </tr>\n",
       "    <tr>\n",
       "      <th>1</th>\n",
       "      <td>2398795.0</td>\n",
       "      <td>1.0</td>\n",
       "      <td>2.0</td>\n",
       "      <td>3.0</td>\n",
       "      <td>7.0</td>\n",
       "      <td>15.0</td>\n",
       "      <td>196</td>\n",
       "      <td>1.0</td>\n",
       "      <td>1.0</td>\n",
       "      <td>Soda</td>\n",
       "      <td>77.0</td>\n",
       "      <td>7.0</td>\n",
       "      <td>9.0</td>\n",
       "      <td>both</td>\n",
       "      <td>Mid-range Products</td>\n",
       "      <td>Regularly busy</td>\n",
       "      <td>Slowest days</td>\n",
       "      <td>Average Orders</td>\n",
       "      <td>10.0</td>\n",
       "      <td>New Customer</td>\n",
       "      <td>6.367797</td>\n",
       "      <td>Low Spender</td>\n",
       "      <td>20.0</td>\n",
       "      <td>Regular customer</td>\n",
       "    </tr>\n",
       "    <tr>\n",
       "      <th>2</th>\n",
       "      <td>473747.0</td>\n",
       "      <td>1.0</td>\n",
       "      <td>3.0</td>\n",
       "      <td>3.0</td>\n",
       "      <td>12.0</td>\n",
       "      <td>21.0</td>\n",
       "      <td>196</td>\n",
       "      <td>1.0</td>\n",
       "      <td>1.0</td>\n",
       "      <td>Soda</td>\n",
       "      <td>77.0</td>\n",
       "      <td>7.0</td>\n",
       "      <td>9.0</td>\n",
       "      <td>both</td>\n",
       "      <td>Mid-range Products</td>\n",
       "      <td>Regularly busy</td>\n",
       "      <td>Slowest days</td>\n",
       "      <td>Most Orders</td>\n",
       "      <td>10.0</td>\n",
       "      <td>New Customer</td>\n",
       "      <td>6.367797</td>\n",
       "      <td>Low Spender</td>\n",
       "      <td>20.0</td>\n",
       "      <td>Regular customer</td>\n",
       "    </tr>\n",
       "    <tr>\n",
       "      <th>3</th>\n",
       "      <td>2254736.0</td>\n",
       "      <td>1.0</td>\n",
       "      <td>4.0</td>\n",
       "      <td>4.0</td>\n",
       "      <td>7.0</td>\n",
       "      <td>29.0</td>\n",
       "      <td>196</td>\n",
       "      <td>1.0</td>\n",
       "      <td>1.0</td>\n",
       "      <td>Soda</td>\n",
       "      <td>77.0</td>\n",
       "      <td>7.0</td>\n",
       "      <td>9.0</td>\n",
       "      <td>both</td>\n",
       "      <td>Mid-range Products</td>\n",
       "      <td>Least Busy</td>\n",
       "      <td>Slowest days</td>\n",
       "      <td>Average Orders</td>\n",
       "      <td>10.0</td>\n",
       "      <td>New Customer</td>\n",
       "      <td>6.367797</td>\n",
       "      <td>Low Spender</td>\n",
       "      <td>20.0</td>\n",
       "      <td>Regular customer</td>\n",
       "    </tr>\n",
       "    <tr>\n",
       "      <th>4</th>\n",
       "      <td>431534.0</td>\n",
       "      <td>1.0</td>\n",
       "      <td>5.0</td>\n",
       "      <td>4.0</td>\n",
       "      <td>15.0</td>\n",
       "      <td>28.0</td>\n",
       "      <td>196</td>\n",
       "      <td>1.0</td>\n",
       "      <td>1.0</td>\n",
       "      <td>Soda</td>\n",
       "      <td>77.0</td>\n",
       "      <td>7.0</td>\n",
       "      <td>9.0</td>\n",
       "      <td>both</td>\n",
       "      <td>Mid-range Products</td>\n",
       "      <td>Least Busy</td>\n",
       "      <td>Slowest days</td>\n",
       "      <td>Most Orders</td>\n",
       "      <td>10.0</td>\n",
       "      <td>New Customer</td>\n",
       "      <td>6.367797</td>\n",
       "      <td>Low Spender</td>\n",
       "      <td>20.0</td>\n",
       "      <td>Regular customer</td>\n",
       "    </tr>\n",
       "  </tbody>\n",
       "</table>\n",
       "</div>"
      ],
      "text/plain": [
       "    order_id  user_identity_number  order_number  orders_day_of_week  \\\n",
       "0  2539329.0                   1.0           1.0                 2.0   \n",
       "1  2398795.0                   1.0           2.0                 3.0   \n",
       "2   473747.0                   1.0           3.0                 3.0   \n",
       "3  2254736.0                   1.0           4.0                 4.0   \n",
       "4   431534.0                   1.0           5.0                 4.0   \n",
       "\n",
       "   order_hour_of_day  days_since_prior_order  product_id  add_to_cart_order  \\\n",
       "0                8.0                     7.0         196                1.0   \n",
       "1                7.0                    15.0         196                1.0   \n",
       "2               12.0                    21.0         196                1.0   \n",
       "3                7.0                    29.0         196                1.0   \n",
       "4               15.0                    28.0         196                1.0   \n",
       "\n",
       "   reordered product_name  aisle_id  department_id  prices _merge  \\\n",
       "0        0.0         Soda      77.0            7.0     9.0   both   \n",
       "1        1.0         Soda      77.0            7.0     9.0   both   \n",
       "2        1.0         Soda      77.0            7.0     9.0   both   \n",
       "3        1.0         Soda      77.0            7.0     9.0   both   \n",
       "4        1.0         Soda      77.0            7.0     9.0   both   \n",
       "\n",
       "      price_range_loc     Busiest_day    Busiest_days  \\\n",
       "0  Mid-range Products  Regularly busy  Regularly busy   \n",
       "1  Mid-range Products  Regularly busy    Slowest days   \n",
       "2  Mid-range Products  Regularly busy    Slowest days   \n",
       "3  Mid-range Products      Least Busy    Slowest days   \n",
       "4  Mid-range Products      Least Busy    Slowest days   \n",
       "\n",
       "  busiest_period_of_the_day  max_order  loyalty_flag  average_price  \\\n",
       "0            Average Orders       10.0  New Customer       6.367797   \n",
       "1            Average Orders       10.0  New Customer       6.367797   \n",
       "2               Most Orders       10.0  New Customer       6.367797   \n",
       "3            Average Orders       10.0  New Customer       6.367797   \n",
       "4               Most Orders       10.0  New Customer       6.367797   \n",
       "\n",
       "      Spending  median_days_since_prior_order  order_regularity  \n",
       "0  Low Spender                           20.0  Regular customer  \n",
       "1  Low Spender                           20.0  Regular customer  \n",
       "2  Low Spender                           20.0  Regular customer  \n",
       "3  Low Spender                           20.0  Regular customer  \n",
       "4  Low Spender                           20.0  Regular customer  "
      ]
     },
     "execution_count": 5,
     "metadata": {},
     "output_type": "execute_result"
    }
   ],
   "source": [
    "prod_ord_group.head()"
   ]
  },
  {
   "cell_type": "markdown",
   "id": "1c50c9a6",
   "metadata": {},
   "source": [
    "### 3. Change Data type"
   ]
  },
  {
   "cell_type": "code",
   "execution_count": 6,
   "id": "37d404eb",
   "metadata": {},
   "outputs": [],
   "source": [
    "prod_ord_group['order_id'] = prod_ord_group['order_id'].astype(str)\n",
    "prod_ord_group['order_id'] = prod_ord_group['order_id'].str.strip()\n",
    "prod_ord_group['order_id'] = pd.to_numeric(prod_ord_group['order_id'], errors='coerce').astype('Int64')\n",
    "prod_ord_group.dropna(subset=['order_id'], inplace=True)\n",
    "prod_ord_group['order_id'] = prod_ord_group['order_id'].astype(int)"
   ]
  },
  {
   "cell_type": "code",
   "execution_count": 7,
   "id": "7623875b",
   "metadata": {},
   "outputs": [],
   "source": [
    "prod_ord_group['order_number'] = prod_ord_group['order_number'].astype(str)\n",
    "prod_ord_group['order_number'] = prod_ord_group['order_number'].str.strip()\n",
    "prod_ord_group['order_number'] = pd.to_numeric(prod_ord_group['order_number'], errors='coerce').astype('Int32')\n",
    "prod_ord_group.dropna(subset=['order_number'], inplace=True)\n",
    "prod_ord_group['order_number'] = prod_ord_group['order_id'].astype(int)"
   ]
  },
  {
   "cell_type": "code",
   "execution_count": 8,
   "id": "ae9047af",
   "metadata": {},
   "outputs": [],
   "source": [
    "prod_ord_group['user_identity_number'] = prod_ord_group['user_identity_number'].astype(str)\n",
    "prod_ord_group['user_identity_number'] = prod_ord_group['user_identity_number'].str.strip()\n",
    "prod_ord_group['user_identity_number'] = pd.to_numeric(prod_ord_group['user_identity_number'], errors='coerce').astype('Int32')\n",
    "prod_ord_group.dropna(subset=['user_identity_number'], inplace=True)\n",
    "prod_ord_group['user_identity_number'] = prod_ord_group['user_identity_number'].astype(int)"
   ]
  },
  {
   "cell_type": "code",
   "execution_count": 9,
   "id": "7039468a",
   "metadata": {},
   "outputs": [],
   "source": [
    "prod_ord_group['orders_day_of_week'] = prod_ord_group['orders_day_of_week'].astype(str)\n",
    "prod_ord_group['orders_day_of_week'] = prod_ord_group['orders_day_of_week'].str.strip()\n",
    "prod_ord_group['orders_day_of_week'] = pd.to_numeric(prod_ord_group['orders_day_of_week'], errors='coerce').astype('Int32')\n",
    "prod_ord_group.dropna(subset=['orders_day_of_week'], inplace=True)\n",
    "prod_ord_group['orders_day_of_week'] = prod_ord_group['orders_day_of_week'].astype(int)"
   ]
  },
  {
   "cell_type": "code",
   "execution_count": 10,
   "id": "298047e2",
   "metadata": {},
   "outputs": [],
   "source": [
    "prod_ord_group['order_hour_of_day'] = prod_ord_group['order_hour_of_day'].astype(str)\n",
    "prod_ord_group['order_hour_of_day'] = prod_ord_group['order_hour_of_day'].str.strip()\n",
    "prod_ord_group['order_hour_of_day'] = pd.to_numeric(prod_ord_group['order_hour_of_day'], errors='coerce').astype('Int32')\n",
    "prod_ord_group.dropna(subset=['order_hour_of_day'], inplace=True)\n",
    "prod_ord_group['order_hour_of_day'] = prod_ord_group['order_hour_of_day'].astype(int)"
   ]
  },
  {
   "cell_type": "code",
   "execution_count": 11,
   "id": "000eaaa4",
   "metadata": {},
   "outputs": [],
   "source": [
    "prod_ord_group['days_since_prior_order'] = prod_ord_group['days_since_prior_order'].astype(str)\n",
    "prod_ord_group['days_since_prior_order'] = prod_ord_group['days_since_prior_order'].str.strip()\n",
    "prod_ord_group['days_since_prior_order'] = pd.to_numeric(prod_ord_group['days_since_prior_order'], errors='coerce').astype('Int32')\n",
    "prod_ord_group.dropna(subset=['days_since_prior_order'], inplace=True)\n",
    "prod_ord_group['days_since_prior_order'] = prod_ord_group['days_since_prior_order'].astype(int)"
   ]
  },
  {
   "cell_type": "code",
   "execution_count": 12,
   "id": "acf5f817",
   "metadata": {},
   "outputs": [],
   "source": [
    "prod_ord_group['product_id'] = prod_ord_group['product_id'].astype(str)\n",
    "prod_ord_group['product_id'] = prod_ord_group['product_id'].str.strip()\n",
    "prod_ord_group['product_id'] = pd.to_numeric(prod_ord_group['product_id'], errors='coerce').astype('Int32')\n",
    "prod_ord_group.dropna(subset=['product_id'], inplace=True)\n",
    "prod_ord_group['product_id'] = prod_ord_group['product_id'].astype(int)"
   ]
  },
  {
   "cell_type": "code",
   "execution_count": 13,
   "id": "0f569e4b",
   "metadata": {},
   "outputs": [],
   "source": [
    "prod_ord_group['product_id'] = prod_ord_group['product_id'].astype(str)\n",
    "prod_ord_group['product_id'] = prod_ord_group['product_id'].str.strip()\n",
    "prod_ord_group['product_id'] = pd.to_numeric(prod_ord_group['product_id'], errors='coerce').astype('Int32')\n",
    "prod_ord_group.dropna(subset=['product_id'], inplace=True)\n",
    "prod_ord_group['product_id'] = prod_ord_group['product_id'].astype(int)"
   ]
  },
  {
   "cell_type": "markdown",
   "id": "0a0f8f13",
   "metadata": {},
   "source": [
    "### 4. Create a bar chart showing the busiest hour of the day "
   ]
  },
  {
   "cell_type": "code",
   "execution_count": 14,
   "id": "5a64a304",
   "metadata": {
    "scrolled": true
   },
   "outputs": [
    {
     "data": {
      "image/png": "[encoded data removed]",
      "text/plain": [
       "<Figure size 640x480 with 1 Axes>"
      ]
     },
     "metadata": {},
     "output_type": "display_data"
    }
   ],
   "source": [
    "# Create a bar chart to show the busiest hour of the day \n",
    "busy = prod_ord_group['order_hour_of_day'].value_counts().sort_index().plot.bar()\n",
    "plt.title('Busiest Time of the day ')\n",
    "busy.figure.savefig(os.path.join(path, 'Analysis','Visualizations', 'Busiest Hour.png'))"
   ]
  },
  {
   "cell_type": "markdown",
   "id": "7529e0a2",
   "metadata": {},
   "source": [
    "### 5. Create a bar chart for the busiest days of the week "
   ]
  },
  {
   "cell_type": "code",
   "execution_count": 2,
   "id": "36a6a542",
   "metadata": {},
   "outputs": [
    {
     "ename": "NameError",
     "evalue": "name 'prod_ord_group' is not defined",
     "output_type": "error",
     "traceback": [
      "\u001b[0;31m---------------------------------------------------------------------------\u001b[0m",
      "\u001b[0;31mNameError\u001b[0m                                 Traceback (most recent call last)",
      "Cell \u001b[0;32mIn[2], line 2\u001b[0m\n\u001b[1;32m      1\u001b[0m \u001b[38;5;66;03m#Making sure the orders day of the week column in both data frames are the same data type\u001b[39;00m\n\u001b[0;32m----> 2\u001b[0m prod_ord_group[\u001b[38;5;124m'\u001b[39m\u001b[38;5;124morders_day_of_week\u001b[39m\u001b[38;5;124m'\u001b[39m] \u001b[38;5;241m=\u001b[39m prod_ord_group[\u001b[38;5;124m'\u001b[39m\u001b[38;5;124morders_day_of_week\u001b[39m\u001b[38;5;124m'\u001b[39m]\u001b[38;5;241m.\u001b[39mastype(\u001b[38;5;124m'\u001b[39m\u001b[38;5;124mstr\u001b[39m\u001b[38;5;124m'\u001b[39m)\n",
      "\u001b[0;31mNameError\u001b[0m: name 'prod_ord_group' is not defined"
     ]
    }
   ],
   "source": [
    "#Making sure the orders day of the week column in both data frames are the same data type\n",
    "prod_ord_group['orders_day_of_week'] = prod_ord_group['orders_day_of_week'].astype('str')"
   ]
  },
  {
   "cell_type": "code",
   "execution_count": 16,
   "id": "10b759fb",
   "metadata": {},
   "outputs": [
    {
     "data": {
      "text/plain": [
       "dtype('O')"
      ]
     },
     "execution_count": 16,
     "metadata": {},
     "output_type": "execute_result"
    }
   ],
   "source": [
    "#Check data type\n",
    "prod_ord_group['orders_day_of_week'].dtype"
   ]
  },
  {
   "cell_type": "code",
   "execution_count": 17,
   "id": "9c487e3d",
   "metadata": {},
   "outputs": [
    {
     "data": {
      "text/plain": [
       "99999.0"
      ]
     },
     "execution_count": 17,
     "metadata": {},
     "output_type": "execute_result"
    }
   ],
   "source": [
    "#Checking Max Price\n",
    "prod_ord_group['prices'].max()"
   ]
  },
  {
   "cell_type": "code",
   "execution_count": 18,
   "id": "08474e39",
   "metadata": {},
   "outputs": [
    {
     "data": {
      "image/png": "[encoded data removed]",
      "text/plain": [
       "<Figure size 640x480 with 1 Axes>"
      ]
     },
     "metadata": {},
     "output_type": "display_data"
    }
   ],
   "source": [
    "# Bar chart to show the busiest days of the week \n",
    "bar = prod_ord_group['orders_day_of_week'].value_counts().sort_index().plot.bar(color = ['purple', 'green', 'yellow', 'blue', 'gold', 'pink','orange'])\n",
    "plt.title('Busiest Day of the week ')\n",
    "plt.ylabel('No. of orders')\n",
    "plt.xlabel( 'Days of the week')\n",
    "bar.figure.savefig(os.path.join(path, 'Analysis','Visualizations', 'Busiest Day.png'))"
   ]
  },
  {
   "cell_type": "code",
   "execution_count": 19,
   "id": "599aa2b8",
   "metadata": {},
   "outputs": [],
   "source": [
    "# Export bar chart \n",
    "bar.figure.savefig(os.path.join(path, 'Analysis', 'Visualizations', 'bar_orders_dow.png'))"
   ]
  },
  {
   "cell_type": "markdown",
   "id": "52932a35",
   "metadata": {},
   "source": [
    "### 6. Histogram for Prices "
   ]
  },
  {
   "cell_type": "code",
   "execution_count": 20,
   "id": "207c4f0d",
   "metadata": {},
   "outputs": [
    {
     "data": {
      "text/plain": [
       "<Axes: ylabel='Frequency'>"
      ]
     },
     "execution_count": 20,
     "metadata": {},
     "output_type": "execute_result"
    },
    {
     "data": {
      "image/png": "[encoded data removed]",
      "text/plain": [
       "<Figure size 640x480 with 1 Axes>"
      ]
     },
     "metadata": {},
     "output_type": "display_data"
    }
   ],
   "source": [
    "#Check the prices in a histogram\n",
    "prod_ord_group['prices'].plot.hist(bins = 25)"
   ]
  },
  {
   "cell_type": "code",
   "execution_count": 21,
   "id": "6e37768f",
   "metadata": {},
   "outputs": [
    {
     "data": {
      "text/plain": [
       "count    3.240604e+07\n",
       "mean     1.198004e+01\n",
       "std      4.956464e+02\n",
       "min      1.000000e+00\n",
       "25%      4.200000e+00\n",
       "50%      7.400000e+00\n",
       "75%      1.130000e+01\n",
       "max      9.999900e+04\n",
       "Name: prices, dtype: float64"
      ]
     },
     "execution_count": 21,
     "metadata": {},
     "output_type": "execute_result"
    }
   ],
   "source": [
    "#Check the statistics of the prices column. We can see an abnormality in the max prices\n",
    "prod_ord_group['prices'].describe()"
   ]
  },
  {
   "cell_type": "code",
   "execution_count": 22,
   "id": "862c4859",
   "metadata": {},
   "outputs": [
    {
     "data": {
      "text/plain": [
       "11.980040357290184"
      ]
     },
     "execution_count": 22,
     "metadata": {},
     "output_type": "execute_result"
    }
   ],
   "source": [
    "#Mean of prics \n",
    "prod_ord_group['prices'].mean()"
   ]
  },
  {
   "cell_type": "code",
   "execution_count": 23,
   "id": "c9e1a6e1",
   "metadata": {},
   "outputs": [
    {
     "data": {
      "text/plain": [
       "99999.0"
      ]
     },
     "execution_count": 23,
     "metadata": {},
     "output_type": "execute_result"
    }
   ],
   "source": [
    "#With a mean of 11.9 and a mx price of 99999. There is clearly an abnormality \n",
    "prod_ord_group['prices'].max()"
   ]
  },
  {
   "cell_type": "code",
   "execution_count": 24,
   "id": "d971614f",
   "metadata": {},
   "outputs": [
    {
     "data": {
      "text/plain": [
       "<Axes: xlabel='prices', ylabel='prices'>"
      ]
     },
     "execution_count": 24,
     "metadata": {},
     "output_type": "execute_result"
    },
    {
     "data": {
      "image/png": "[encoded data removed]",
      "text/plain": [
       "<Figure size 640x480 with 1 Axes>"
      ]
     },
     "metadata": {},
     "output_type": "display_data"
    }
   ],
   "source": [
    "#Create a Scatterplot to find the outlier\n",
    "sns.scatterplot(x = 'prices', y = 'prices',data = prod_ord_group)\n"
   ]
  },
  {
   "cell_type": "code",
   "execution_count": 25,
   "id": "172ae46a",
   "metadata": {},
   "outputs": [
    {
     "data": {
      "text/html": [
       "<div>\n",
       "<style scoped>\n",
       "    .dataframe tbody tr th:only-of-type {\n",
       "        vertical-align: middle;\n",
       "    }\n",
       "\n",
       "    .dataframe tbody tr th {\n",
       "        vertical-align: top;\n",
       "    }\n",
       "\n",
       "    .dataframe thead th {\n",
       "        text-align: right;\n",
       "    }\n",
       "</style>\n",
       "<table border=\"1\" class=\"dataframe\">\n",
       "  <thead>\n",
       "    <tr style=\"text-align: right;\">\n",
       "      <th></th>\n",
       "      <th>order_id</th>\n",
       "      <th>user_identity_number</th>\n",
       "      <th>order_number</th>\n",
       "      <th>orders_day_of_week</th>\n",
       "      <th>order_hour_of_day</th>\n",
       "      <th>days_since_prior_order</th>\n",
       "      <th>product_id</th>\n",
       "      <th>add_to_cart_order</th>\n",
       "      <th>reordered</th>\n",
       "      <th>product_name</th>\n",
       "      <th>aisle_id</th>\n",
       "      <th>department_id</th>\n",
       "      <th>prices</th>\n",
       "      <th>_merge</th>\n",
       "      <th>price_range_loc</th>\n",
       "      <th>Busiest_day</th>\n",
       "      <th>Busiest_days</th>\n",
       "      <th>busiest_period_of_the_day</th>\n",
       "      <th>max_order</th>\n",
       "      <th>loyalty_flag</th>\n",
       "      <th>average_price</th>\n",
       "      <th>Spending</th>\n",
       "      <th>median_days_since_prior_order</th>\n",
       "      <th>order_regularity</th>\n",
       "    </tr>\n",
       "  </thead>\n",
       "  <tbody>\n",
       "    <tr>\n",
       "      <th>10030345</th>\n",
       "      <td>912404</td>\n",
       "      <td>17</td>\n",
       "      <td>912404</td>\n",
       "      <td>2</td>\n",
       "      <td>14</td>\n",
       "      <td>5</td>\n",
       "      <td>21553</td>\n",
       "      <td>5.0</td>\n",
       "      <td>0.0</td>\n",
       "      <td>Lowfat 2% Milkfat Cottage Cheese</td>\n",
       "      <td>108.0</td>\n",
       "      <td>16.0</td>\n",
       "      <td>14900.0</td>\n",
       "      <td>both</td>\n",
       "      <td>High-range Products</td>\n",
       "      <td>Regularly busy</td>\n",
       "      <td>Regularly busy</td>\n",
       "      <td>Most Orders</td>\n",
       "      <td>40.0</td>\n",
       "      <td>Regular Customer</td>\n",
       "      <td>108.648299</td>\n",
       "      <td>High Spender</td>\n",
       "      <td>5.0</td>\n",
       "      <td>Frequent customer</td>\n",
       "    </tr>\n",
       "    <tr>\n",
       "      <th>10030346</th>\n",
       "      <td>603376</td>\n",
       "      <td>17</td>\n",
       "      <td>603376</td>\n",
       "      <td>6</td>\n",
       "      <td>16</td>\n",
       "      <td>4</td>\n",
       "      <td>21553</td>\n",
       "      <td>3.0</td>\n",
       "      <td>1.0</td>\n",
       "      <td>Lowfat 2% Milkfat Cottage Cheese</td>\n",
       "      <td>108.0</td>\n",
       "      <td>16.0</td>\n",
       "      <td>14900.0</td>\n",
       "      <td>both</td>\n",
       "      <td>High-range Products</td>\n",
       "      <td>Regularly busy</td>\n",
       "      <td>Regularly busy</td>\n",
       "      <td>Most Orders</td>\n",
       "      <td>40.0</td>\n",
       "      <td>Regular Customer</td>\n",
       "      <td>108.648299</td>\n",
       "      <td>High Spender</td>\n",
       "      <td>5.0</td>\n",
       "      <td>Frequent customer</td>\n",
       "    </tr>\n",
       "    <tr>\n",
       "      <th>10030347</th>\n",
       "      <td>3264360</td>\n",
       "      <td>135</td>\n",
       "      <td>3264360</td>\n",
       "      <td>2</td>\n",
       "      <td>21</td>\n",
       "      <td>13</td>\n",
       "      <td>21553</td>\n",
       "      <td>6.0</td>\n",
       "      <td>0.0</td>\n",
       "      <td>Lowfat 2% Milkfat Cottage Cheese</td>\n",
       "      <td>108.0</td>\n",
       "      <td>16.0</td>\n",
       "      <td>14900.0</td>\n",
       "      <td>both</td>\n",
       "      <td>High-range Products</td>\n",
       "      <td>Regularly busy</td>\n",
       "      <td>Regularly busy</td>\n",
       "      <td>Average Orders</td>\n",
       "      <td>4.0</td>\n",
       "      <td>New Customer</td>\n",
       "      <td>1154.792308</td>\n",
       "      <td>High Spender</td>\n",
       "      <td>11.5</td>\n",
       "      <td>Regular customer</td>\n",
       "    </tr>\n",
       "    <tr>\n",
       "      <th>10030348</th>\n",
       "      <td>892534</td>\n",
       "      <td>135</td>\n",
       "      <td>892534</td>\n",
       "      <td>0</td>\n",
       "      <td>8</td>\n",
       "      <td>12</td>\n",
       "      <td>21553</td>\n",
       "      <td>3.0</td>\n",
       "      <td>1.0</td>\n",
       "      <td>Lowfat 2% Milkfat Cottage Cheese</td>\n",
       "      <td>108.0</td>\n",
       "      <td>16.0</td>\n",
       "      <td>14900.0</td>\n",
       "      <td>both</td>\n",
       "      <td>High-range Products</td>\n",
       "      <td>Busiest day</td>\n",
       "      <td>Busiest days</td>\n",
       "      <td>Average Orders</td>\n",
       "      <td>4.0</td>\n",
       "      <td>New Customer</td>\n",
       "      <td>1154.792308</td>\n",
       "      <td>High Spender</td>\n",
       "      <td>11.5</td>\n",
       "      <td>Regular customer</td>\n",
       "    </tr>\n",
       "    <tr>\n",
       "      <th>10030349</th>\n",
       "      <td>229704</td>\n",
       "      <td>342</td>\n",
       "      <td>229704</td>\n",
       "      <td>1</td>\n",
       "      <td>19</td>\n",
       "      <td>30</td>\n",
       "      <td>21553</td>\n",
       "      <td>9.0</td>\n",
       "      <td>0.0</td>\n",
       "      <td>Lowfat 2% Milkfat Cottage Cheese</td>\n",
       "      <td>108.0</td>\n",
       "      <td>16.0</td>\n",
       "      <td>14900.0</td>\n",
       "      <td>both</td>\n",
       "      <td>High-range Products</td>\n",
       "      <td>Regularly busy</td>\n",
       "      <td>Busiest days</td>\n",
       "      <td>Average Orders</td>\n",
       "      <td>16.0</td>\n",
       "      <td>Regular Customer</td>\n",
       "      <td>114.426619</td>\n",
       "      <td>High Spender</td>\n",
       "      <td>20.0</td>\n",
       "      <td>Regular customer</td>\n",
       "    </tr>\n",
       "    <tr>\n",
       "      <th>...</th>\n",
       "      <td>...</td>\n",
       "      <td>...</td>\n",
       "      <td>...</td>\n",
       "      <td>...</td>\n",
       "      <td>...</td>\n",
       "      <td>...</td>\n",
       "      <td>...</td>\n",
       "      <td>...</td>\n",
       "      <td>...</td>\n",
       "      <td>...</td>\n",
       "      <td>...</td>\n",
       "      <td>...</td>\n",
       "      <td>...</td>\n",
       "      <td>...</td>\n",
       "      <td>...</td>\n",
       "      <td>...</td>\n",
       "      <td>...</td>\n",
       "      <td>...</td>\n",
       "      <td>...</td>\n",
       "      <td>...</td>\n",
       "      <td>...</td>\n",
       "      <td>...</td>\n",
       "      <td>...</td>\n",
       "      <td>...</td>\n",
       "    </tr>\n",
       "    <tr>\n",
       "      <th>29195246</th>\n",
       "      <td>2249946</td>\n",
       "      <td>204099</td>\n",
       "      <td>2249946</td>\n",
       "      <td>0</td>\n",
       "      <td>8</td>\n",
       "      <td>4</td>\n",
       "      <td>33664</td>\n",
       "      <td>1.0</td>\n",
       "      <td>0.0</td>\n",
       "      <td>2 % Reduced Fat  Milk</td>\n",
       "      <td>84.0</td>\n",
       "      <td>16.0</td>\n",
       "      <td>99999.0</td>\n",
       "      <td>both</td>\n",
       "      <td>High-range Products</td>\n",
       "      <td>Busiest day</td>\n",
       "      <td>Busiest days</td>\n",
       "      <td>Average Orders</td>\n",
       "      <td>39.0</td>\n",
       "      <td>Regular Customer</td>\n",
       "      <td>1106.743956</td>\n",
       "      <td>High Spender</td>\n",
       "      <td>4.0</td>\n",
       "      <td>Frequent customer</td>\n",
       "    </tr>\n",
       "    <tr>\n",
       "      <th>29195247</th>\n",
       "      <td>2363282</td>\n",
       "      <td>204099</td>\n",
       "      <td>2363282</td>\n",
       "      <td>0</td>\n",
       "      <td>9</td>\n",
       "      <td>2</td>\n",
       "      <td>33664</td>\n",
       "      <td>1.0</td>\n",
       "      <td>1.0</td>\n",
       "      <td>2 % Reduced Fat  Milk</td>\n",
       "      <td>84.0</td>\n",
       "      <td>16.0</td>\n",
       "      <td>99999.0</td>\n",
       "      <td>both</td>\n",
       "      <td>High-range Products</td>\n",
       "      <td>Busiest day</td>\n",
       "      <td>Busiest days</td>\n",
       "      <td>Most Orders</td>\n",
       "      <td>39.0</td>\n",
       "      <td>Regular Customer</td>\n",
       "      <td>1106.743956</td>\n",
       "      <td>High Spender</td>\n",
       "      <td>4.0</td>\n",
       "      <td>Frequent customer</td>\n",
       "    </tr>\n",
       "    <tr>\n",
       "      <th>29195248</th>\n",
       "      <td>3181945</td>\n",
       "      <td>204395</td>\n",
       "      <td>3181945</td>\n",
       "      <td>3</td>\n",
       "      <td>15</td>\n",
       "      <td>8</td>\n",
       "      <td>33664</td>\n",
       "      <td>25.0</td>\n",
       "      <td>0.0</td>\n",
       "      <td>2 % Reduced Fat  Milk</td>\n",
       "      <td>84.0</td>\n",
       "      <td>16.0</td>\n",
       "      <td>99999.0</td>\n",
       "      <td>both</td>\n",
       "      <td>High-range Products</td>\n",
       "      <td>Regularly busy</td>\n",
       "      <td>Slowest days</td>\n",
       "      <td>Most Orders</td>\n",
       "      <td>15.0</td>\n",
       "      <td>Regular Customer</td>\n",
       "      <td>451.153540</td>\n",
       "      <td>High Spender</td>\n",
       "      <td>5.0</td>\n",
       "      <td>Frequent customer</td>\n",
       "    </tr>\n",
       "    <tr>\n",
       "      <th>29195249</th>\n",
       "      <td>2486215</td>\n",
       "      <td>205227</td>\n",
       "      <td>2486215</td>\n",
       "      <td>3</td>\n",
       "      <td>20</td>\n",
       "      <td>4</td>\n",
       "      <td>33664</td>\n",
       "      <td>8.0</td>\n",
       "      <td>0.0</td>\n",
       "      <td>2 % Reduced Fat  Milk</td>\n",
       "      <td>84.0</td>\n",
       "      <td>16.0</td>\n",
       "      <td>99999.0</td>\n",
       "      <td>both</td>\n",
       "      <td>High-range Products</td>\n",
       "      <td>Regularly busy</td>\n",
       "      <td>Slowest days</td>\n",
       "      <td>Average Orders</td>\n",
       "      <td>12.0</td>\n",
       "      <td>Regular Customer</td>\n",
       "      <td>1178.381871</td>\n",
       "      <td>High Spender</td>\n",
       "      <td>7.0</td>\n",
       "      <td>Frequent customer</td>\n",
       "    </tr>\n",
       "    <tr>\n",
       "      <th>29195250</th>\n",
       "      <td>2232716</td>\n",
       "      <td>205227</td>\n",
       "      <td>2232716</td>\n",
       "      <td>0</td>\n",
       "      <td>11</td>\n",
       "      <td>4</td>\n",
       "      <td>33664</td>\n",
       "      <td>23.0</td>\n",
       "      <td>1.0</td>\n",
       "      <td>2 % Reduced Fat  Milk</td>\n",
       "      <td>84.0</td>\n",
       "      <td>16.0</td>\n",
       "      <td>99999.0</td>\n",
       "      <td>both</td>\n",
       "      <td>High-range Products</td>\n",
       "      <td>Busiest day</td>\n",
       "      <td>Busiest days</td>\n",
       "      <td>Most Orders</td>\n",
       "      <td>12.0</td>\n",
       "      <td>Regular Customer</td>\n",
       "      <td>1178.381871</td>\n",
       "      <td>High Spender</td>\n",
       "      <td>7.0</td>\n",
       "      <td>Frequent customer</td>\n",
       "    </tr>\n",
       "  </tbody>\n",
       "</table>\n",
       "<p>5127 rows × 24 columns</p>\n",
       "</div>"
      ],
      "text/plain": [
       "          order_id  user_identity_number  order_number orders_day_of_week  \\\n",
       "10030345    912404                    17        912404                  2   \n",
       "10030346    603376                    17        603376                  6   \n",
       "10030347   3264360                   135       3264360                  2   \n",
       "10030348    892534                   135        892534                  0   \n",
       "10030349    229704                   342        229704                  1   \n",
       "...            ...                   ...           ...                ...   \n",
       "29195246   2249946                204099       2249946                  0   \n",
       "29195247   2363282                204099       2363282                  0   \n",
       "29195248   3181945                204395       3181945                  3   \n",
       "29195249   2486215                205227       2486215                  3   \n",
       "29195250   2232716                205227       2232716                  0   \n",
       "\n",
       "          order_hour_of_day  days_since_prior_order  product_id  \\\n",
       "10030345                 14                       5       21553   \n",
       "10030346                 16                       4       21553   \n",
       "10030347                 21                      13       21553   \n",
       "10030348                  8                      12       21553   \n",
       "10030349                 19                      30       21553   \n",
       "...                     ...                     ...         ...   \n",
       "29195246                  8                       4       33664   \n",
       "29195247                  9                       2       33664   \n",
       "29195248                 15                       8       33664   \n",
       "29195249                 20                       4       33664   \n",
       "29195250                 11                       4       33664   \n",
       "\n",
       "          add_to_cart_order  reordered                      product_name  \\\n",
       "10030345                5.0        0.0  Lowfat 2% Milkfat Cottage Cheese   \n",
       "10030346                3.0        1.0  Lowfat 2% Milkfat Cottage Cheese   \n",
       "10030347                6.0        0.0  Lowfat 2% Milkfat Cottage Cheese   \n",
       "10030348                3.0        1.0  Lowfat 2% Milkfat Cottage Cheese   \n",
       "10030349                9.0        0.0  Lowfat 2% Milkfat Cottage Cheese   \n",
       "...                     ...        ...                               ...   \n",
       "29195246                1.0        0.0             2 % Reduced Fat  Milk   \n",
       "29195247                1.0        1.0             2 % Reduced Fat  Milk   \n",
       "29195248               25.0        0.0             2 % Reduced Fat  Milk   \n",
       "29195249                8.0        0.0             2 % Reduced Fat  Milk   \n",
       "29195250               23.0        1.0             2 % Reduced Fat  Milk   \n",
       "\n",
       "          aisle_id  department_id   prices _merge      price_range_loc  \\\n",
       "10030345     108.0           16.0  14900.0   both  High-range Products   \n",
       "10030346     108.0           16.0  14900.0   both  High-range Products   \n",
       "10030347     108.0           16.0  14900.0   both  High-range Products   \n",
       "10030348     108.0           16.0  14900.0   both  High-range Products   \n",
       "10030349     108.0           16.0  14900.0   both  High-range Products   \n",
       "...            ...            ...      ...    ...                  ...   \n",
       "29195246      84.0           16.0  99999.0   both  High-range Products   \n",
       "29195247      84.0           16.0  99999.0   both  High-range Products   \n",
       "29195248      84.0           16.0  99999.0   both  High-range Products   \n",
       "29195249      84.0           16.0  99999.0   both  High-range Products   \n",
       "29195250      84.0           16.0  99999.0   both  High-range Products   \n",
       "\n",
       "             Busiest_day    Busiest_days busiest_period_of_the_day  max_order  \\\n",
       "10030345  Regularly busy  Regularly busy               Most Orders       40.0   \n",
       "10030346  Regularly busy  Regularly busy               Most Orders       40.0   \n",
       "10030347  Regularly busy  Regularly busy            Average Orders        4.0   \n",
       "10030348     Busiest day    Busiest days            Average Orders        4.0   \n",
       "10030349  Regularly busy    Busiest days            Average Orders       16.0   \n",
       "...                  ...             ...                       ...        ...   \n",
       "29195246     Busiest day    Busiest days            Average Orders       39.0   \n",
       "29195247     Busiest day    Busiest days               Most Orders       39.0   \n",
       "29195248  Regularly busy    Slowest days               Most Orders       15.0   \n",
       "29195249  Regularly busy    Slowest days            Average Orders       12.0   \n",
       "29195250     Busiest day    Busiest days               Most Orders       12.0   \n",
       "\n",
       "              loyalty_flag  average_price      Spending  \\\n",
       "10030345  Regular Customer     108.648299  High Spender   \n",
       "10030346  Regular Customer     108.648299  High Spender   \n",
       "10030347      New Customer    1154.792308  High Spender   \n",
       "10030348      New Customer    1154.792308  High Spender   \n",
       "10030349  Regular Customer     114.426619  High Spender   \n",
       "...                    ...            ...           ...   \n",
       "29195246  Regular Customer    1106.743956  High Spender   \n",
       "29195247  Regular Customer    1106.743956  High Spender   \n",
       "29195248  Regular Customer     451.153540  High Spender   \n",
       "29195249  Regular Customer    1178.381871  High Spender   \n",
       "29195250  Regular Customer    1178.381871  High Spender   \n",
       "\n",
       "          median_days_since_prior_order   order_regularity  \n",
       "10030345                            5.0  Frequent customer  \n",
       "10030346                            5.0  Frequent customer  \n",
       "10030347                           11.5   Regular customer  \n",
       "10030348                           11.5   Regular customer  \n",
       "10030349                           20.0   Regular customer  \n",
       "...                                 ...                ...  \n",
       "29195246                            4.0  Frequent customer  \n",
       "29195247                            4.0  Frequent customer  \n",
       "29195248                            5.0  Frequent customer  \n",
       "29195249                            7.0  Frequent customer  \n",
       "29195250                            7.0  Frequent customer  \n",
       "\n",
       "[5127 rows x 24 columns]"
      ]
     },
     "execution_count": 25,
     "metadata": {},
     "output_type": "execute_result"
    }
   ],
   "source": [
    "prod_ord_group.loc[prod_ord_group['prices'] > 100 ]"
   ]
  },
  {
   "cell_type": "code",
   "execution_count": 26,
   "id": "6d74638b",
   "metadata": {},
   "outputs": [],
   "source": [
    "pd.set_option('display.max_columns', None)"
   ]
  },
  {
   "cell_type": "code",
   "execution_count": 27,
   "id": "03def2f6",
   "metadata": {},
   "outputs": [],
   "source": [
    "# Mark Outliers as missing \n",
    "prod_ord_group.loc[prod_ord_group['prices'] > 100 ] = np.nan"
   ]
  },
  {
   "cell_type": "code",
   "execution_count": 43,
   "id": "e48de6fc",
   "metadata": {},
   "outputs": [
    {
     "data": {
      "text/plain": [
       "25.0"
      ]
     },
     "execution_count": 43,
     "metadata": {},
     "output_type": "execute_result"
    }
   ],
   "source": [
    "# Check the new max value \n",
    "prod_ord_group['prices'].max()"
   ]
  },
  {
   "cell_type": "code",
   "execution_count": 46,
   "id": "e2f37a44",
   "metadata": {},
   "outputs": [
    {
     "data": {
      "text/plain": [
       "25.0"
      ]
     },
     "execution_count": 46,
     "metadata": {},
     "output_type": "execute_result"
    }
   ],
   "source": [
    "prod_ord_group['prices'].max()"
   ]
  },
  {
   "cell_type": "code",
   "execution_count": 29,
   "id": "65d00f00",
   "metadata": {
    "scrolled": false
   },
   "outputs": [
    {
     "data": {
      "image/png": "[encoded data removed]",
      "text/plain": [
       "<Figure size 640x480 with 1 Axes>"
      ]
     },
     "metadata": {},
     "output_type": "display_data"
    }
   ],
   "source": [
    "# Plot historgam after removal of outliers \n",
    "hist = prod_ord_group['prices'].plot.hist(bins = 70)"
   ]
  },
  {
   "cell_type": "code",
   "execution_count": 30,
   "id": "33ea3ba4",
   "metadata": {},
   "outputs": [],
   "source": [
    "# Export Historgram \n",
    "hist.figure.savefig(os.path.join(path, 'Analysis', 'Visualizations', 'hist_orders_dow.png'))"
   ]
  },
  {
   "cell_type": "code",
   "execution_count": 31,
   "id": "bebb1a7f",
   "metadata": {},
   "outputs": [],
   "source": [
    "# Create a list holding true/false values to the test np.random.rant() <=0.7\n",
    "np.random.seed(4)\n",
    "dev = np.random.rand(len(prod_ord_group)) <= 0.7"
   ]
  },
  {
   "cell_type": "code",
   "execution_count": 32,
   "id": "72c40d3c",
   "metadata": {},
   "outputs": [
    {
     "data": {
      "text/plain": [
       "array([False,  True, False, ...,  True,  True,  True])"
      ]
     },
     "execution_count": 32,
     "metadata": {},
     "output_type": "execute_result"
    }
   ],
   "source": [
    "dev"
   ]
  },
  {
   "cell_type": "code",
   "execution_count": 33,
   "id": "2354857d",
   "metadata": {},
   "outputs": [],
   "source": [
    "#Store 70% of the sample in the dataframe as Big and 30% of the sample in the dataframe as small\n",
    "big = prod_ord_group[dev]\n",
    "small = prod_ord_group[~dev]"
   ]
  },
  {
   "cell_type": "code",
   "execution_count": 34,
   "id": "b78f3c81",
   "metadata": {},
   "outputs": [
    {
     "data": {
      "text/plain": [
       "32406041"
      ]
     },
     "execution_count": 34,
     "metadata": {},
     "output_type": "execute_result"
    }
   ],
   "source": [
    "len(prod_ord_group)"
   ]
  },
  {
   "cell_type": "code",
   "execution_count": 35,
   "id": "a799b1eb",
   "metadata": {},
   "outputs": [
    {
     "data": {
      "text/plain": [
       "32406041"
      ]
     },
     "execution_count": 35,
     "metadata": {},
     "output_type": "execute_result"
    }
   ],
   "source": [
    "len(big) + len(small)"
   ]
  },
  {
   "cell_type": "code",
   "execution_count": 36,
   "id": "ea3945ec",
   "metadata": {},
   "outputs": [],
   "source": [
    "# Reducing the samples to only two columns 'orders_days_of_week' and 'prices'\n",
    "df_2 = small[['orders_day_of_week', 'prices']]"
   ]
  },
  {
   "cell_type": "code",
   "execution_count": 37,
   "id": "1a2c47ee",
   "metadata": {},
   "outputs": [
    {
     "data": {
      "text/html": [
       "<div>\n",
       "<style scoped>\n",
       "    .dataframe tbody tr th:only-of-type {\n",
       "        vertical-align: middle;\n",
       "    }\n",
       "\n",
       "    .dataframe tbody tr th {\n",
       "        vertical-align: top;\n",
       "    }\n",
       "\n",
       "    .dataframe thead th {\n",
       "        text-align: right;\n",
       "    }\n",
       "</style>\n",
       "<table border=\"1\" class=\"dataframe\">\n",
       "  <thead>\n",
       "    <tr style=\"text-align: right;\">\n",
       "      <th></th>\n",
       "      <th>orders_day_of_week</th>\n",
       "      <th>prices</th>\n",
       "    </tr>\n",
       "  </thead>\n",
       "  <tbody>\n",
       "    <tr>\n",
       "      <th>0</th>\n",
       "      <td>2</td>\n",
       "      <td>9.0</td>\n",
       "    </tr>\n",
       "    <tr>\n",
       "      <th>2</th>\n",
       "      <td>3</td>\n",
       "      <td>9.0</td>\n",
       "    </tr>\n",
       "    <tr>\n",
       "      <th>3</th>\n",
       "      <td>4</td>\n",
       "      <td>9.0</td>\n",
       "    </tr>\n",
       "    <tr>\n",
       "      <th>6</th>\n",
       "      <td>1</td>\n",
       "      <td>9.0</td>\n",
       "    </tr>\n",
       "    <tr>\n",
       "      <th>10</th>\n",
       "      <td>1</td>\n",
       "      <td>9.0</td>\n",
       "    </tr>\n",
       "  </tbody>\n",
       "</table>\n",
       "</div>"
      ],
      "text/plain": [
       "   orders_day_of_week  prices\n",
       "0                   2     9.0\n",
       "2                   3     9.0\n",
       "3                   4     9.0\n",
       "6                   1     9.0\n",
       "10                  1     9.0"
      ]
     },
     "execution_count": 37,
     "metadata": {},
     "output_type": "execute_result"
    }
   ],
   "source": [
    "df_2.head()"
   ]
  },
  {
   "cell_type": "code",
   "execution_count": 38,
   "id": "7a652e6d",
   "metadata": {},
   "outputs": [
    {
     "name": "stderr",
     "output_type": "stream",
     "text": [
      "/Users/shaquillelee/anaconda3/lib/python3.11/site-packages/seaborn/_oldcore.py:1119: FutureWarning: use_inf_as_na option is deprecated and will be removed in a future version. Convert inf values to NaN before operating instead.\n",
      "  with pd.option_context('mode.use_inf_as_na', True):\n",
      "/Users/shaquillelee/anaconda3/lib/python3.11/site-packages/seaborn/_oldcore.py:1119: FutureWarning: use_inf_as_na option is deprecated and will be removed in a future version. Convert inf values to NaN before operating instead.\n",
      "  with pd.option_context('mode.use_inf_as_na', True):\n"
     ]
    },
    {
     "data": {
      "image/png": "[encoded data removed]",
      "text/plain": [
       "<Figure size 640x480 with 1 Axes>"
      ]
     },
     "metadata": {},
     "output_type": "display_data"
    }
   ],
   "source": [
    "# Create a line plot for the two columns\n",
    "line = sns.lineplot(data = df_2, x = 'orders_day_of_week',y = 'prices')\n"
   ]
  },
  {
   "cell_type": "code",
   "execution_count": 39,
   "id": "6fe11576",
   "metadata": {},
   "outputs": [],
   "source": [
    "df_4 = prod_ord_group[['orders_day_of_week', 'prices']]"
   ]
  },
  {
   "cell_type": "code",
   "execution_count": 40,
   "id": "7a964e21",
   "metadata": {
    "scrolled": true
   },
   "outputs": [
    {
     "name": "stderr",
     "output_type": "stream",
     "text": [
      "/Users/shaquillelee/anaconda3/lib/python3.11/site-packages/seaborn/_oldcore.py:1119: FutureWarning: use_inf_as_na option is deprecated and will be removed in a future version. Convert inf values to NaN before operating instead.\n",
      "  with pd.option_context('mode.use_inf_as_na', True):\n",
      "/Users/shaquillelee/anaconda3/lib/python3.11/site-packages/seaborn/_oldcore.py:1119: FutureWarning: use_inf_as_na option is deprecated and will be removed in a future version. Convert inf values to NaN before operating instead.\n",
      "  with pd.option_context('mode.use_inf_as_na', True):\n"
     ]
    },
    {
     "data": {
      "image/png": "[encoded data removed]",
      "text/plain": [
       "<Figure size 640x480 with 1 Axes>"
      ]
     },
     "metadata": {},
     "output_type": "display_data"
    }
   ],
   "source": [
    "line_2 = sns.lineplot(data = df_4, x = 'orders_day_of_week', y = 'prices')"
   ]
  },
  {
   "cell_type": "code",
   "execution_count": 41,
   "id": "7ba13c9a",
   "metadata": {},
   "outputs": [],
   "source": [
    "df_5 = prod_ord_group[['average_price', 'order_hour_of_day']]"
   ]
  },
  {
   "cell_type": "code",
   "execution_count": 48,
   "id": "4e31df3c",
   "metadata": {
    "scrolled": true
   },
   "outputs": [
    {
     "name": "stderr",
     "output_type": "stream",
     "text": [
      "/Users/shaquillelee/anaconda3/lib/python3.11/site-packages/seaborn/_oldcore.py:1119: FutureWarning: use_inf_as_na option is deprecated and will be removed in a future version. Convert inf values to NaN before operating instead.\n",
      "  with pd.option_context('mode.use_inf_as_na', True):\n",
      "/Users/shaquillelee/anaconda3/lib/python3.11/site-packages/seaborn/_oldcore.py:1119: FutureWarning: use_inf_as_na option is deprecated and will be removed in a future version. Convert inf values to NaN before operating instead.\n",
      "  with pd.option_context('mode.use_inf_as_na', True):\n"
     ]
    },
    {
     "data": {
      "image/png": "[encoded data removed]",
      "text/plain": [
       "<Figure size 640x480 with 1 Axes>"
      ]
     },
     "metadata": {},
     "output_type": "display_data"
    }
   ],
   "source": [
    "line_3 = sns.lineplot(data = df_5, x = 'order_hour_of_day', y = 'average_price')\n",
    "plt.title('Time When most money is spent ')\n",
    "line_3.figure.savefig(os.path.join(path, 'Analysis', 'Visualizations', 'Time of day.png'))"
   ]
  }
 ],
 "metadata": {
  "kernelspec": {
   "display_name": "Python 3 (ipykernel)",
   "language": "python",
   "name": "python3"
  },
  "language_info": {
   "codemirror_mode": {
    "name": "ipython",
    "version": 3
   },
   "file_extension": ".py",
   "mimetype": "text/x-python",
   "name": "python",
   "nbconvert_exporter": "python",
   "pygments_lexer": "ipython3",
   "version": "3.11.4"
  }
 },
 "nbformat": 4,
 "nbformat_minor": 5
}
