{
 "cells": [
  {
   "cell_type": "markdown",
   "id": "61e44df2",
   "metadata": {},
   "source": [
    "# 01. Importing Library"
   ]
  },
  {
   "cell_type": "code",
   "execution_count": 4,
   "id": "8e5dc85d",
   "metadata": {},
   "outputs": [],
   "source": [
    "# import Library \n",
    "import pandas as pd\n",
    "import numpy as np\n",
    "import os"
   ]
  },
  {
   "cell_type": "markdown",
   "id": "ed54b5ff",
   "metadata": {},
   "source": [
    "# 02 Data Type"
   ]
  },
  {
   "cell_type": "markdown",
   "id": "4a6fd571",
   "metadata": {},
   "source": [
    "# Integer"
   ]
  },
  {
   "cell_type": "code",
   "execution_count": 42,
   "id": "c2718c73",
   "metadata": {},
   "outputs": [],
   "source": [
    "x=50\n"
   ]
  },
  {
   "cell_type": "code",
   "execution_count": 33,
   "id": "0be503db",
   "metadata": {},
   "outputs": [
    {
     "data": {
      "text/plain": [
       "100"
      ]
     },
     "execution_count": 33,
     "metadata": {},
     "output_type": "execute_result"
    }
   ],
   "source": [
    "x + 50"
   ]
  },
  {
   "cell_type": "code",
   "execution_count": 36,
   "id": "b798f805",
   "metadata": {},
   "outputs": [
    {
     "data": {
      "text/plain": [
       "100"
      ]
     },
     "execution_count": 36,
     "metadata": {},
     "output_type": "execute_result"
    }
   ],
   "source": [
    "2 * x"
   ]
  },
  {
   "cell_type": "code",
   "execution_count": 47,
   "id": "fc984c31",
   "metadata": {},
   "outputs": [
    {
     "data": {
      "text/plain": [
       "100.0"
      ]
     },
     "execution_count": 47,
     "metadata": {},
     "output_type": "execute_result"
    }
   ],
   "source": [
    "x / 2 + 75"
   ]
  },
  {
   "cell_type": "markdown",
   "id": "d3378975",
   "metadata": {},
   "source": [
    "# FLoating Point number "
   ]
  },
  {
   "cell_type": "code",
   "execution_count": 48,
   "id": "0408a7ba",
   "metadata": {},
   "outputs": [],
   "source": [
    "y=20.678 \n",
    "z=10.67"
   ]
  },
  {
   "cell_type": "code",
   "execution_count": 49,
   "id": "2fa5d726",
   "metadata": {},
   "outputs": [
    {
     "data": {
      "text/plain": [
       "1.9379568884723526"
      ]
     },
     "execution_count": 49,
     "metadata": {},
     "output_type": "execute_result"
    }
   ],
   "source": [
    "y/z"
   ]
  },
  {
   "cell_type": "code",
   "execution_count": 13,
   "id": "2fad2bb9",
   "metadata": {},
   "outputs": [
    {
     "data": {
      "text/plain": [
       "float"
      ]
     },
     "execution_count": 13,
     "metadata": {},
     "output_type": "execute_result"
    }
   ],
   "source": [
    "type(y)"
   ]
  },
  {
   "cell_type": "markdown",
   "id": "91daa39f",
   "metadata": {},
   "source": [
    "# String"
   ]
  },
  {
   "cell_type": "code",
   "execution_count": 53,
   "id": "e12f3384",
   "metadata": {},
   "outputs": [],
   "source": [
    "c = 'Hello, '\n",
    "d = 'World'"
   ]
  },
  {
   "cell_type": "code",
   "execution_count": 54,
   "id": "33472a95",
   "metadata": {},
   "outputs": [
    {
     "data": {
      "text/plain": [
       "'Hello, World'"
      ]
     },
     "execution_count": 54,
     "metadata": {},
     "output_type": "execute_result"
    }
   ],
   "source": [
    "c + d"
   ]
  },
  {
   "cell_type": "code",
   "execution_count": 56,
   "id": "a2344c90",
   "metadata": {},
   "outputs": [
    {
     "name": "stdout",
     "output_type": "stream",
     "text": [
      "Hi, My name is Shaquille\n",
      "I am Hungry.\n"
     ]
    }
   ],
   "source": [
    "print ('Hi, My name is Shaquille')\n",
    "print ('I am Hungry.')"
   ]
  },
  {
   "cell_type": "code",
   "execution_count": null,
   "id": "922aae39",
   "metadata": {},
   "outputs": [],
   "source": []
  }
 ],
 "metadata": {
  "kernelspec": {
   "display_name": "Python 3 (ipykernel)",
   "language": "python",
   "name": "python3"
  },
  "language_info": {
   "codemirror_mode": {
    "name": "ipython",
    "version": 3
   },
   "file_extension": ".py",
   "mimetype": "text/x-python",
   "name": "python",
   "nbconvert_exporter": "python",
   "pygments_lexer": "ipython3",
   "version": "3.11.4"
  }
 },
 "nbformat": 4,
 "nbformat_minor": 5
}
